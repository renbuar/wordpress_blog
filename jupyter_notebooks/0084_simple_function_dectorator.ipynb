{
 "cells": [
  {
   "cell_type": "markdown",
   "metadata": {},
   "source": [
    "# Python function decorators\n",
    "\n",
    "Decorators (identified by @ in line above function definition) allow code to be run before and after the function (hence 'decorating' it). An example of use of a decorator is shown below when a decorator function is used to time two different functions. This removes the need for duplicating code in different functions, and also keeps the functions focussed on their primary objective.\n",
    "\n",
    "A decorator function is written so that is becomes a wrapper around the function it decorates. The wrapper passes arguments (args) and named arguments (kwargs) to the function it wraps around, so that the wrapped function behaves as if it were running normally. \n",
    "\n",
    "In the example below we define a decorator function that records the time before and after the decorated function, and displays the time taken."
   ]
  },
  {
   "cell_type": "code",
   "execution_count": 2,
   "metadata": {},
   "outputs": [
    {
     "name": "stdout",
     "output_type": "stream",
     "text": [
      "calc_square took 2 milliseconds\n",
      "calc_cube took 2 milliseconds\n"
     ]
    }
   ],
   "source": [
    "\"\"\"\n",
    "Example of simple function decorator\n",
    "------------------------------------\n",
    "@time_it is a function decorator. It takes the function below it and passes it,\n",
    "along with the passed arguments, to the time_it function. This allows multiple\n",
    "functions to be timed without replication of code, and keeps each function code\n",
    "clean and uncluttered.\n",
    "\"\"\"\n",
    "\n",
    "\n",
    "def time_it(func):\n",
    "    import time\n",
    "    def wrapper (*args, **kwargs):\n",
    "        start = time.time()\n",
    "        result = func(*args, **kwargs)\n",
    "        end = time.time()\n",
    "        print (func.__name__ + ' took ' + str(int((end-start)*1000)) + \n",
    "               ' milliseconds')\n",
    "        return result\n",
    "    return wrapper\n",
    "\n",
    "@time_it\n",
    "def calc_square(numbers):\n",
    "    result = []\n",
    "    for number in numbers:\n",
    "        result.append (number ** 2)\n",
    "    return result\n",
    "\n",
    "\n",
    "@time_it\n",
    "def calc_cube(numbers):\n",
    "    result = []\n",
    "    for number in numbers:\n",
    "        result.append (number ** 3)\n",
    "    return result\n",
    "\n",
    "if __name__ == '__main__':\n",
    "    x = range(1,10000)\n",
    "    calc_square(x)\n",
    "    calc_cube(x)"
   ]
  }
 ],
 "metadata": {
  "kernelspec": {
   "display_name": "Python 3",
   "language": "python",
   "name": "python3"
  },
  "language_info": {
   "codemirror_mode": {
    "name": "ipython",
    "version": 3
   },
   "file_extension": ".py",
   "mimetype": "text/x-python",
   "name": "python",
   "nbconvert_exporter": "python",
   "pygments_lexer": "ipython3",
   "version": "3.6.4"
  }
 },
 "nbformat": 4,
 "nbformat_minor": 2
}
