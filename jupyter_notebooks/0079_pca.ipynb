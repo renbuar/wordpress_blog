{
 "cells": [
  {
   "cell_type": "markdown",
   "metadata": {},
   "source": [
    "# Reducing data complexity, and eliminating covariance, with principal component analysis\n",
    "\n",
    "Principal component analysis (PCA) may be used for two purposes:\n",
    "\n",
    "1) Reducing the number of features used. This may be especially useful when there are very many features and computational time is critical.\n",
    "\n",
    "2) Eliminating covariance between features. Co-variance occurs when the value of one feature has some linkage to another feature. For example weight will, on average, increase as height increases.\n",
    "\n",
    "Principal component analysis identifies components that explain the variation in the data. The first component will be chosen to capture the greatest variance in the transformed data as possible – that is, by itself, it will give the best estimate of the value of a data point using just one parameter.  Further components are chosen that are ‘orthogonal’ to the previous components which ensures lack of any covariance.\n",
    "\n",
    "In essence, principal component analysis allows us to reduce the amount of data used with minimal loss in accuracy of a model. Typically the number of components chosen is such that >95-98% of the observed variance is explained.\n",
    "\n",
    "Let’s look at an example using the Wisconsin Breast Cancer data set. \n",
    "\n",
    "As usual we will start with loading required modules, and loading the data set."
   ]
  },
  {
   "cell_type": "code",
   "execution_count": 24,
   "metadata": {},
   "outputs": [],
   "source": [
    "import numpy as np\n",
    "import matplotlib.pyplot as plt\n",
    "from matplotlib import cm\n",
    "%matplotlib inline\n",
    "from sklearn.model_selection import train_test_split\n",
    "from sklearn.preprocessing import StandardScaler\n",
    "from sklearn.decomposition import PCA\n",
    "\n",
    "#%% Load data\n",
    "from sklearn import datasets\n",
    "data_set = datasets.load_breast_cancer()\n",
    "X=data_set.data\n",
    "y=data_set.target"
   ]
  },
  {
   "cell_type": "markdown",
   "metadata": {},
   "source": [
    "We will split our data in training and test data sets. PCA is built using the trainign data set, and may then be applied to the test data set."
   ]
  },
  {
   "cell_type": "code",
   "execution_count": 25,
   "metadata": {},
   "outputs": [],
   "source": [
    "# Split into training and tets sets\n",
    "X_train,X_test,y_train,y_test = (\n",
    "        train_test_split(X,y,test_size=0.3, random_state=0))"
   ]
  },
  {
   "cell_type": "markdown",
   "metadata": {},
   "source": [
    "We will normalise our data:"
   ]
  },
  {
   "cell_type": "code",
   "execution_count": 26,
   "metadata": {},
   "outputs": [],
   "source": [
    "#%% Normalise data\n",
    "sc=StandardScaler() \n",
    "sc.fit(X_train)\n",
    "X_train_std=sc.transform(X_train)\n",
    "X_test_std=sc.transform(X_test)"
   ]
  },
  {
   "cell_type": "markdown",
   "metadata": {},
   "source": [
    "And now we will apply PCA. If we pass the argument 'n_components = None' to the PCA method then the PCA will return all components, and the variance explained by each component."
   ]
  },
  {
   "cell_type": "code",
   "execution_count": 27,
   "metadata": {},
   "outputs": [],
   "source": [
    "# Apply pca, accesing all components\n",
    "pca = PCA(n_components = None)\n",
    "pca.fit(X_train_std)\n",
    "\n",
    "explained_variance = pca.explained_variance_ratio_\n",
    "explained_variance_cum_sum = np.cumsum(explained_variance)"
   ]
  },
  {
   "cell_type": "markdown",
   "metadata": {},
   "source": [
    "Let's look at the variance explained:"
   ]
  },
  {
   "cell_type": "code",
   "execution_count": 28,
   "metadata": {},
   "outputs": [
    {
     "data": {
      "image/png": "[encoded data removed]",
      "text/plain": [
       "<matplotlib.figure.Figure at 0x7f27d1c6e588>"
      ]
     },
     "metadata": {},
     "output_type": "display_data"
    }
   ],
   "source": [
    "fig = plt.figure(figsize=(5,5))\n",
    "ax = fig.add_subplot(111)\n",
    "x = np.arange(1, len(explained_variance)+1)\n",
    "ax.plot(x, explained_variance, label = 'Inidividual contribution')\n",
    "ax.plot(x, explained_variance_cum_sum, label = 'Cumulative contribution')\n",
    "ax.set_xlabel('Number of principal components')\n",
    "ax.set_ylabel('Proportion of variance explained')\n",
    "ax.legend()\n",
    "ax.grid()\n",
    "plt.show()"
   ]
  },
  {
   "cell_type": "markdown",
   "metadata": {},
   "source": [
    "We can look at the cumulative contribution to explained variance. And we see that 95% of the variance may be explained by 10 features. Our model could be simplified by appling PCA and using the transformed data based on 10 components (instead of 30 features). 14 features would explain >98% of the variance."
   ]
  },
  {
   "cell_type": "code",
   "execution_count": 29,
   "metadata": {},
   "outputs": [
    {
     "data": {
      "text/plain": [
       "[(0, 0.43689315296382647),\n",
       " (1, 0.631044778687372),\n",
       " (2, 0.7276602270650945),\n",
       " (3, 0.7948263345632808),\n",
       " (4, 0.8498146378719993),\n",
       " (5, 0.8899372096523127),\n",
       " (6, 0.911767891289488),\n",
       " (7, 0.9266601513907545),\n",
       " (8, 0.9404012341007773),\n",
       " (9, 0.9514149471124791),\n",
       " (10, 0.9618975759018142),\n",
       " (11, 0.9710597183750846),\n",
       " (12, 0.9787227788854884),\n",
       " (13, 0.9838650421992904),\n",
       " (14, 0.9870613939807314),\n",
       " (15, 0.989581078486956),\n",
       " (16, 0.9915052299697702),\n",
       " (17, 0.9931636721975996),\n",
       " (18, 0.9946539396903759),\n",
       " (19, 0.9957217128459858),\n",
       " (20, 0.9967389650012513),\n",
       " (21, 0.9975879198167824),\n",
       " (22, 0.9983314125415828),\n",
       " (23, 0.9989127081530736),\n",
       " (24, 0.9994569309376532),\n",
       " (25, 0.999710476406319),\n",
       " (26, 0.9999248621075235),\n",
       " (27, 0.9999711588199732),\n",
       " (28, 0.9999962746519541),\n",
       " (29, 0.9999999999999999)]"
      ]
     },
     "execution_count": 29,
     "metadata": {},
     "output_type": "execute_result"
    }
   ],
   "source": [
    "list(enumerate(explained_variance_cum_sum))"
   ]
  },
  {
   "cell_type": "markdown",
   "metadata": {},
   "source": [
    "Choosing 10 components, we re-train the PCA (and print the transformation of the first patient data)."
   ]
  },
  {
   "cell_type": "code",
   "execution_count": 30,
   "metadata": {},
   "outputs": [
    {
     "name": "stdout",
     "output_type": "stream",
     "text": [
      "[-2.17650596  1.25618056 -0.79259801 -0.78858712  0.17034054 -0.17007413\n",
      "  0.35187117  0.82314449  0.17808993  0.09931353]\n"
     ]
    }
   ],
   "source": [
    "pca = PCA(n_components = 10)\n",
    "pca.fit(X_train_std)\n",
    "X_train_pca = pca.transform(X_train_std)\n",
    "print (X_train_pca[0])"
   ]
  },
  {
   "cell_type": "markdown",
   "metadata": {},
   "source": [
    "We would then train our favoured machine learning algorithm with the pca data. To predict the classification of unseen data we would transform the test data based on pca fitted to the training data:"
   ]
  },
  {
   "cell_type": "code",
   "execution_count": 31,
   "metadata": {},
   "outputs": [],
   "source": [
    "X_test_pca = pca.transform(X_test_std)"
   ]
  },
  {
   "cell_type": "markdown",
   "metadata": {},
   "source": [
    "## The effect of PCA on covariance\n",
    "\n",
    "We can calculate covariance between features using NumPy, and display as a heat map. This is for normalised data before PCA. Dark colours in the grid represent features that have high covariance."
   ]
  },
  {
   "cell_type": "code",
   "execution_count": 32,
   "metadata": {},
   "outputs": [
    {
     "data": {
      "image/png": "[encoded data removed]",
      "text/plain": [
       "<matplotlib.figure.Figure at 0x7f27d0f71588>"
      ]
     },
     "metadata": {},
     "output_type": "display_data"
    }
   ],
   "source": [
    "# Plot covariance matrix of original data\n",
    "cov_original = np.cov(X_train_std.T)\n",
    "plt.imshow(cov_original, interpolation='nearest', cmap=cm.Greys)\n",
    "plt.colorbar()\n",
    "plt.title('Covariance of orginal features')\n",
    "plt.xlabel('Feature')\n",
    "plt.ylabel('Feature')\n",
    "plt.show()"
   ]
  },
  {
   "cell_type": "markdown",
   "metadata": {},
   "source": [
    "Now let's plot the covariance between our 10 components.The diagonal line represents the covariance between a component and itself (i.e. they have the same value). The first component is darker because the magnitude of this component varies more than the others."
   ]
  },
  {
   "cell_type": "code",
   "execution_count": 33,
   "metadata": {},
   "outputs": [
    {
     "data": {
      "image/png": "[encoded data removed]",
      "text/plain": [
       "<matplotlib.figure.Figure at 0x7f27d0f941d0>"
      ]
     },
     "metadata": {},
     "output_type": "display_data"
    }
   ],
   "source": [
    "cov_pca = np.cov(X_train_pca.T)\n",
    "plt.imshow(cov_pca, interpolation='nearest', cmap=cm.Greys)\n",
    "plt.colorbar()\n",
    "plt.xlabel('Component')\n",
    "plt.ylabel('Component')\n",
    "plt.title('Covariance of principal components')\n",
    "plt.show()"
   ]
  },
  {
   "cell_type": "markdown",
   "metadata": {},
   "source": [
    "We can normalise the difference in magnitude between different compnents by using the correlation coefficient rather than the covariance. Here we again see no correlation between any component and any other component (the black diaganal again represents the correlation between one component and itself; i.e. identical values)"
   ]
  },
  {
   "cell_type": "code",
   "execution_count": 34,
   "metadata": {},
   "outputs": [
    {
     "data": {
      "image/png": "[encoded data removed]",
      "text/plain": [
       "<matplotlib.figure.Figure at 0x7f27d1eb6550>"
      ]
     },
     "metadata": {},
     "output_type": "display_data"
    }
   ],
   "source": [
    "cov_pca = np.corrcoef(X_train_pca.T)\n",
    "plt.imshow(cov_pca, interpolation='nearest', cmap=cm.Greys)\n",
    "plt.colorbar()\n",
    "plt.xlabel('Component')\n",
    "plt.ylabel('Component')\n",
    "plt.title('Correlation between principal components')\n",
    "plt.show()"
   ]
  },
  {
   "cell_type": "code",
   "execution_count": null,
   "metadata": {},
   "outputs": [],
   "source": []
  }
 ],
 "metadata": {
  "kernelspec": {
   "display_name": "Python 3",
   "language": "python",
   "name": "python3"
  },
  "language_info": {
   "codemirror_mode": {
    "name": "ipython",
    "version": 3
   },
   "file_extension": ".py",
   "mimetype": "text/x-python",
   "name": "python",
   "nbconvert_exporter": "python",
   "pygments_lexer": "ipython3",
   "version": "3.6.4"
  }
 },
 "nbformat": 4,
 "nbformat_minor": 2
}
