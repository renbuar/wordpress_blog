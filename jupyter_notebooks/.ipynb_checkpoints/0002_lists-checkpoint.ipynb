{
 "cells": [
  {
   "cell_type": "markdown",
   "metadata": {},
   "source": [
    "# Lists\n",
    "\n",
    "Lists, tuples, sets and dictionaries are four basic objects for storing data in Python. Later we'll look at libraries that allow for specialised handling and analysis of large or complex data sets.\n",
    "\n",
    "Lists are a group of text or numbers (or more complex objects) held together in a given order. Lists are recognised by using square brackets , with members of the list separated by commas. Lists are mutable, that is their contents may be changed. Note that when Python numbers a list the first element is referenced by the index zero. Python is a 'zero-indexed' language.\n",
    "\n",
    "Below is code demonstrating some common handling of lists."
   ]
  },
  {
   "cell_type": "markdown",
   "metadata": {},
   "source": [
    "## Creating a list\n",
    "Lists may mix text, numbers, or other Python objects. Here is code to generate and print a list of mixed text and numbers. Note that the text is in speech marks (single or double; both will work). If the speech marks were missing then Python would think the text represented a variable name (such as the name of another list)."
   ]
  },
  {
   "cell_type": "code",
   "execution_count": 1,
   "metadata": {},
   "outputs": [
    {
     "name": "stdout",
     "output_type": "stream",
     "text": [
      "['Gandalf', 'Bilbo', 'Gimli', 10, 30, 40]\n"
     ]
    }
   ],
   "source": [
    "my_list = ['Gandalf','Bilbo','Gimli',10,30,40]\n",
    "print (my_list)"
   ]
  },
  {
   "cell_type": "markdown",
   "metadata": {},
   "source": [
    "Empty lists may also be created (and then content later added to this empty list; see section .below for adding to lists)"
   ]
  },
  {
   "cell_type": "code",
   "execution_count": null,
   "metadata": {},
   "outputs": [],
   "source": [
    "my_list = [] # This is an empty list"
   ]
  },
  {
   "cell_type": "markdown",
   "metadata": {},
   "source": [
    "## Deleting a list\n",
    "\n",
    "The <em>del</em> command will delete a list (or any other variable)."
   ]
  },
  {
   "cell_type": "code",
   "execution_count": 4,
   "metadata": {},
   "outputs": [],
   "source": [
    "my_list = ['Gandalf','Bilbo','Gimli']\n",
    "del my_list"
   ]
  },
  {
   "cell_type": "markdown",
   "metadata": {},
   "source": [
    "## Returning an element from a list\n",
    "\n",
    "Python list store their contents in sequence. A particular element may be referenced by its index number. Python indexes start at zero. Watch out for this - this will almost certainly trip you up at some point.\n",
    "\n",
    "The example below prints the second item in the list. The first item would be referenced with 0 (zero)."
   ]
  },
  {
   "cell_type": "code",
   "execution_count": 4,
   "metadata": {},
   "outputs": [
    {
     "name": "stdout",
     "output_type": "stream",
     "text": [
      "Bilbo\n"
     ]
    }
   ],
   "source": [
    "my_list = ['Gandalf','Bilbo','Gimli',10,30,40]\n",
    "print (my_list[1])"
   ]
  },
  {
   "cell_type": "markdown",
   "metadata": {},
   "source": [
    "Negative references may be used to refer to position from the <em>end</em> of the list. An index of -1 would be the last item (because -0 is the same as 0 and would be the first item!)."
   ]
  },
  {
   "cell_type": "markdown",
   "metadata": {},
   "source": [
    "## Taking 'slices' of a list\n",
    "\n",
    "Taking more than one element from a list is called a slice. The slice defines the starting point, and the point just after the end of the slice. The example below takes elements indexed 2 to 4 (but not 5)."
   ]
  },
  {
   "cell_type": "code",
   "execution_count": 1,
   "metadata": {},
   "outputs": [
    {
     "name": "stdout",
     "output_type": "stream",
     "text": [
      "[2, 3, 4]\n"
     ]
    }
   ],
   "source": [
    "my_list = [0,1,2,3,4,5,6,7,8,9,10]\n",
    "slice = my_list[2:5]\n",
    "print(slice)"
   ]
  },
  {
   "cell_type": "markdown",
   "metadata": {},
   "source": [
    "Slices can take every n elements, the example below takes every second element from index 1 up to, but not including, index 9 (remembering that the first element is index 0):\n"
   ]
  },
  {
   "cell_type": "code",
   "execution_count": 2,
   "metadata": {},
   "outputs": [
    {
     "name": "stdout",
     "output_type": "stream",
     "text": [
      "[2, 4, 6, 8]\n"
     ]
    }
   ],
   "source": [
    "y_list = [0,1,2,3,4,5,6,7,8,9,10]\n",
    "slice = my_list[2:9:2]\n",
    "print(slice)"
   ]
  },
  {
   "cell_type": "markdown",
   "metadata": {},
   "source": [
    "Reverse slices may also be taken by defining the end point before the beginning point and using a negative step:"
   ]
  },
  {
   "cell_type": "code",
   "execution_count": 3,
   "metadata": {},
   "outputs": [
    {
     "name": "stdout",
     "output_type": "stream",
     "text": [
      "[9, 7, 5, 3]\n"
     ]
    }
   ],
   "source": [
    "my_list = [0,1,2,3,4,5,6,7,8,9,10]\n",
    "slice = my_list[9:2:-2]\n",
    "print(slice)"
   ]
  },
  {
   "cell_type": "markdown",
   "metadata": {},
   "source": [
    "Colons can be used to designate beginning or end. For example:"
   ]
  },
  {
   "cell_type": "code",
   "execution_count": 3,
   "metadata": {},
   "outputs": [
    {
     "name": "stdout",
     "output_type": "stream",
     "text": [
      "[0, 1, 2, 3]\n",
      "[3, 4, 5, 6, 7, 8, 9, 10]\n",
      "[0, 2, 4, 6, 8, 10]\n"
     ]
    }
   ],
   "source": [
    "my_list = [0,1,2,3,4,5,6,7,8,9,10]\n",
    "print (my_list[:4])\n",
    "print (my_list[3:])\n",
    "print (my_list[::2])"
   ]
  },
  {
   "cell_type": "markdown",
   "metadata": {},
   "source": [
    "## Deleting or changing an item in a list\n",
    "\n",
    "Unlike tuples (which are very similar to lists), elements in a list may be deleted or changed.\n",
    "\n",
    "Here the first element in the list is deleted:"
   ]
  },
  {
   "cell_type": "code",
   "execution_count": 5,
   "metadata": {},
   "outputs": [
    {
     "name": "stdout",
     "output_type": "stream",
     "text": [
      "['Bilbo', 'Gimli', 10, 30, 40]\n"
     ]
    }
   ],
   "source": [
    "my_list = ['Gandalf','Bilbo','Gimli',10,30,40]\n",
    "del my_list[0]\n",
    "print (my_list)"
   ]
  },
  {
   "cell_type": "markdown",
   "metadata": {},
   "source": [
    "Here the second element of the list is replaced:"
   ]
  },
  {
   "cell_type": "code",
   "execution_count": 6,
   "metadata": {},
   "outputs": [
    {
     "name": "stdout",
     "output_type": "stream",
     "text": [
      "['Boromir', 'Bilbo', 'Gimli', 10, 30, 40]\n"
     ]
    }
   ],
   "source": [
    "my_list = ['Gandalf','Bilbo','Gimli',10,30,40]\n",
    "my_list[0] = 'Boromir'\n",
    "print (my_list)"
   ]
  },
  {
   "cell_type": "markdown",
   "metadata": {},
   "source": [
    "## Appending an item to a list, and joining two lists\n",
    "\n",
    "Individual elements may be added to a list with append."
   ]
  },
  {
   "cell_type": "code",
   "execution_count": 7,
   "metadata": {},
   "outputs": [
    {
     "name": "stdout",
     "output_type": "stream",
     "text": [
      "['Gandalf', 'Bilbo', 'Gimli', 10, 30, 40, 'Elrond']\n"
     ]
    }
   ],
   "source": [
    "my_list = ['Gandalf','Bilbo','Gimli',10,30,40]\n",
    "my_list.append ('Elrond')\n",
    "print (my_list)"
   ]
  },
  {
   "cell_type": "markdown",
   "metadata": {},
   "source": [
    "Two lists may be joined with a simple +"
   ]
  },
  {
   "cell_type": "code",
   "execution_count": 9,
   "metadata": {},
   "outputs": [
    {
     "name": "stdout",
     "output_type": "stream",
     "text": [
      "['Gandalf', 'Bilbo', 'Gimli', 'Elrond', 'Boromir']\n"
     ]
    }
   ],
   "source": [
    "my_list = ['Gandalf','Bilbo','Gimli']\n",
    "my_second_list = ['Elrond','Boromir']\n",
    "my_combined_list = my_list + my_second_list\n",
    "print (my_combined_list)"
   ]
  },
  {
   "cell_type": "markdown",
   "metadata": {},
   "source": [
    "Or the <em>extend</em> method may be used to add a list to an existing list.\n"
   ]
  },
  {
   "cell_type": "code",
   "execution_count": 11,
   "metadata": {},
   "outputs": [
    {
     "name": "stdout",
     "output_type": "stream",
     "text": [
      "['Gandalf', 'Bilbo', 'Gimli', 'Elrond', 'Boromir']\n"
     ]
    }
   ],
   "source": [
    "my_list = ['Gandalf','Bilbo','Gimli']\n",
    "my_second_list = ['Elrond','Boromir']\n",
    "my_list.extend(my_second_list)\n",
    "print (my_list)"
   ]
  },
  {
   "cell_type": "markdown",
   "metadata": {},
   "source": [
    "## Copying a list\n",
    "\n",
    "If we try to copy a list by saying 'my_copy = my_list' we do not generate a new copy. Instead we generate an 'alias', another name that refers to the original list. Any changes to my_copy will change my_list (and vice versa).\n",
    "\n",
    "There are two ways we can make a separate copy of a list, where changes to the new copy will not change the original list:"
   ]
  },
  {
   "cell_type": "code",
   "execution_count": 12,
   "metadata": {},
   "outputs": [],
   "source": [
    "my_list = ['Gandalf','Bilbo','Gimli']\n",
    "my_copy = my_list.copy()\n",
    "# Or\n",
    "my_copy = my_list[:]"
   ]
  },
  {
   "cell_type": "markdown",
   "metadata": {},
   "source": [
    "## Inserting an element into a given position in a list\n",
    "\n",
    "An element may be inserted into a list with the <em>insert</em> method. Here we specify that the new element will be inserted at index 2 (the third element in the list, remembering that the first element is index 0). In a later post we will look at methods specifically for maintaining a sorted list, but for now let us simply inset an element at a given position in the list."
   ]
  },
  {
   "cell_type": "code",
   "execution_count": 13,
   "metadata": {},
   "outputs": [
    {
     "name": "stdout",
     "output_type": "stream",
     "text": [
      "['Gandalf', 'Bilbo', 'Boromir', 'Gimli']\n"
     ]
    }
   ],
   "source": [
    "my_list = ['Gandalf','Bilbo','Gimli']\n",
    "my_list.insert(2, 'Boromir')\n",
    "print (my_list)"
   ]
  },
  {
   "cell_type": "markdown",
   "metadata": {},
   "source": [
    "## Sorting a list\n",
    "\n",
    "The <em>sort</em> method can work on a list of text or a list of numbers (but not a mixed list text and numbers). Sort order may be reversed if wanted.\n",
    "\n",
    "A normal sort:"
   ]
  },
  {
   "cell_type": "code",
   "execution_count": 14,
   "metadata": {},
   "outputs": [
    {
     "name": "stdout",
     "output_type": "stream",
     "text": [
      "[5, 5, 8, 10, 24]\n"
     ]
    }
   ],
   "source": [
    "x = [10, 5, 24, 5, 8]\n",
    "x.sort()\n",
    "print (x)"
   ]
  },
  {
   "cell_type": "markdown",
   "metadata": {},
   "source": [
    "A reverse sort:"
   ]
  },
  {
   "cell_type": "code",
   "execution_count": 15,
   "metadata": {},
   "outputs": [
    {
     "name": "stdout",
     "output_type": "stream",
     "text": [
      "[24, 10, 8, 5, 5]\n"
     ]
    }
   ],
   "source": [
    "x = [10, 5, 24, 5, 8]\n",
    "x.sort(reverse=True)\n",
    "print (x)"
   ]
  },
  {
   "cell_type": "markdown",
   "metadata": {},
   "source": [
    "## Checking whether the list contains a given element\n",
    "\n",
    "The <em>in</em> command checks whether a particular element exist in a list. It returns a 'Boolean' True or False.\n"
   ]
  },
  {
   "cell_type": "code",
   "execution_count": 18,
   "metadata": {},
   "outputs": [
    {
     "name": "stdout",
     "output_type": "stream",
     "text": [
      "True\n",
      "False\n"
     ]
    }
   ],
   "source": [
    "my_list = ['Gandalf','Bilbo','Gimli','Elrond','Boromir']\n",
    "is_in_list = 'Elrond' in my_list\n",
    "print (is_in_list)\n",
    "is_in_list = 'Bob' in my_list\n",
    "print (is_in_list)"
   ]
  },
  {
   "cell_type": "markdown",
   "metadata": {},
   "source": [
    "## Reversing a list\n",
    "\n",
    "The method to reverse a list looks a little odd. It is actually creating a 'slice' of a list that steps back from the end of list."
   ]
  },
  {
   "cell_type": "code",
   "execution_count": 1,
   "metadata": {},
   "outputs": [
    {
     "name": "stdout",
     "output_type": "stream",
     "text": [
      "['Boromir', 'Elrond', 'Gimli', 'Bilbo', 'Gandalf']\n"
     ]
    }
   ],
   "source": [
    "my_list = ['Gandalf','Bilbo','Gimli','Elrond','Boromir']\n",
    "my_list = my_list[::-1]\n",
    "print (my_list)"
   ]
  },
  {
   "cell_type": "markdown",
   "metadata": {},
   "source": [
    "## Counting the number of elements in a list\n",
    "\n",
    "Use the <em>len</em> function to return the number of elements in a list."
   ]
  },
  {
   "cell_type": "code",
   "execution_count": 20,
   "metadata": {},
   "outputs": [
    {
     "name": "stdout",
     "output_type": "stream",
     "text": [
      "5\n"
     ]
    }
   ],
   "source": [
    "my_list = ['Gandalf','Bilbo','Gimli','Elrond','Boromir']\n",
    "print (len(my_list))"
   ]
  },
  {
   "cell_type": "markdown",
   "metadata": {},
   "source": [
    "## Returning the index position of an element of a list\n",
    "\n",
    "The list <em>index</em> will return the position of the first element of the list matching the argument given."
   ]
  },
  {
   "cell_type": "code",
   "execution_count": 21,
   "metadata": {},
   "outputs": [
    {
     "name": "stdout",
     "output_type": "stream",
     "text": [
      "3\n"
     ]
    }
   ],
   "source": [
    "my_list = ['Gandalf','Bilbo','Gimli','Elrond','Boromir']\n",
    "index_pos = my_list.index('Elrond')\n",
    "print (index_pos)"
   ]
  },
  {
   "cell_type": "markdown",
   "metadata": {},
   "source": [
    "If the element is not in the list then the code will error. Later we will look at some different ways of coping with this type of error. For now let us introduce an if/then/else statement (and we'll cover those in more detail later as well)."
   ]
  },
  {
   "cell_type": "code",
   "execution_count": 24,
   "metadata": {},
   "outputs": [
    {
     "name": "stdout",
     "output_type": "stream",
     "text": [
      "Elrond is in list at position 3\n"
     ]
    }
   ],
   "source": [
    "my_list = ['Gandalf','Bilbo','Gimli','Elrond','Boromir']\n",
    "test_element = 'Elrond'\n",
    "is_in_list = test_element in my_list\n",
    "if is_in_list: # this is the same as saying if is_in_list == True\n",
    "    print (test_element,'is in list at position', my_list.index(test_element))\n",
    "else:\n",
    "    print (test_element, 'is not in list')"
   ]
  },
  {
   "cell_type": "markdown",
   "metadata": {},
   "source": [
    "## Removing an element of a list by its value\n",
    "\n",
    "An element may be removed from a list by using its value rather than index. Be aware that you might want to put in a method (like the if statement above) to check the value is present before removing it. But here is a simple remove (this will remove the first instance of that particular value:"
   ]
  },
  {
   "cell_type": "code",
   "execution_count": 25,
   "metadata": {},
   "outputs": [
    {
     "name": "stdout",
     "output_type": "stream",
     "text": [
      "['Gandalf', 'Gimli', 'Elrond', 'Boromir']\n"
     ]
    }
   ],
   "source": [
    "my_list = ['Gandalf','Bilbo','Gimli','Elrond','Boromir']\n",
    "my_list.remove('Bilbo')\n",
    "print (my_list)"
   ]
  },
  {
   "cell_type": "markdown",
   "metadata": {},
   "source": [
    "## 'Popping' an element from a list'\n",
    "\n",
    "Popping an element from a list means to retrieve an element from a list, removing it from the list at the same time. If no element number is given then the last element of the list will be popped."
   ]
  },
  {
   "cell_type": "code",
   "execution_count": 26,
   "metadata": {},
   "outputs": [
    {
     "name": "stdout",
     "output_type": "stream",
     "text": [
      "Original list: ['Gandalf', 'Bilbo', 'Gimli', 'Elrond', 'Boromir']\n",
      "Boromir was popped\n",
      "Remaining list: ['Gandalf', 'Bilbo', 'Gimli', 'Elrond']\n",
      "Bilbo was popped\n",
      "Remaining list: ['Gandalf', 'Gimli', 'Elrond']\n"
     ]
    }
   ],
   "source": [
    "my_list = ['Gandalf','Bilbo','Gimli','Elrond','Boromir']\n",
    "print ('Original list:', my_list)\n",
    "x = my_list.pop()\n",
    "print (x, 'was popped')\n",
    "print ('Remaining list:',my_list)\n",
    "x = my_list.pop(1)\n",
    "print (x, 'was popped')\n",
    "print ('Remaining list:', my_list)"
   ]
  },
  {
   "cell_type": "markdown",
   "metadata": {},
   "source": [
    "## Iterating (stepping) through a list\n",
    "\n",
    "Lists are 'iterable', that is they can be stepped through. The example below prints one element at a time. We use the variable name 'x' here, but any name may be used."
   ]
  },
  {
   "cell_type": "code",
   "execution_count": 30,
   "metadata": {},
   "outputs": [
    {
     "name": "stdout",
     "output_type": "stream",
     "text": [
      "1 2 3 4 5 6 7 8 9 "
     ]
    }
   ],
   "source": [
    "my_list = [1,2,3,4,5,6,7,8,9]\n",
    "for x in my_list:\n",
    "    print(x, end=' ') # end command replaces a newline with a space"
   ]
  },
  {
   "cell_type": "markdown",
   "metadata": {},
   "source": [
    "## Iterating through a list and changing element values\n",
    "\n",
    "Iterating through a list and changing the value in the original list is a little more complicated. Below the <em>range</em> command creates a range of numbers from zero up to the index of the last element of the list. If there were 4 elements, for example, then the range function would produce '0, 1, 2, 3'. This allows us to iterate through the index numbers for the list (the position of each element). Using the index number we can change the value of the element in that position of the list."
   ]
  },
  {
   "cell_type": "code",
   "execution_count": 32,
   "metadata": {},
   "outputs": [
    {
     "name": "stdout",
     "output_type": "stream",
     "text": [
      "\n",
      "My list after iterating and mutating:\n",
      "[1, 4, 9, 16, 25, 36, 49, 64, 81]\n"
     ]
    }
   ],
   "source": [
    "my_list = [1,2,3,4,5,6,7,8,9]\n",
    "for index in range(len(my_list)):\n",
    "    my_list[index] = my_list[index]**2\n",
    "print ('\\nMy list after iterating and mutating:')\n",
    "print (my_list)"
   ]
  },
  {
   "cell_type": "markdown",
   "metadata": {},
   "source": [
    "## Counting the number of times an element exists in a list\n",
    "\n",
    "The <em>count</em> method counts the number of times a value occurs in a list. If the value does not exist a zero is returned."
   ]
  },
  {
   "cell_type": "code",
   "execution_count": 33,
   "metadata": {},
   "outputs": [
    {
     "name": "stdout",
     "output_type": "stream",
     "text": [
      "Count the number of times 1 occurs in [1, 2, 3, 4, 1, 4, 1]\n",
      "3 \n",
      "\n"
     ]
    }
   ],
   "source": [
    "x =[1, 2, 3, 4, 1, 4, 1]\n",
    "test_value = 1\n",
    "print ('Count the number of times 1 occurs in',x)\n",
    "print (x.count(test_value),'\\n')"
   ]
  },
  {
   "cell_type": "markdown",
   "metadata": {},
   "source": [
    "## Turning a sentence into a list of words\n",
    "\n",
    "The <em>split</em> method allows a long string, such as a sentence, to be separated into individual words. If no separator is defined any white space (such as a space or comma) will be used to divide words."
   ]
  },
  {
   "cell_type": "code",
   "execution_count": 34,
   "metadata": {},
   "outputs": [
    {
     "name": "stdout",
     "output_type": "stream",
     "text": [
      "['Turn', 'this', 'sentence', 'into', 'a', 'list']\n"
     ]
    }
   ],
   "source": [
    "my_sentence =\"Turn this sentence into a list\"\n",
    "words = my_sentence.split()\n",
    "print (words)"
   ]
  },
  {
   "cell_type": "markdown",
   "metadata": {},
   "source": [
    "A separator may be specified, such as diving sentences at commas:"
   ]
  },
  {
   "cell_type": "code",
   "execution_count": 36,
   "metadata": {},
   "outputs": [
    {
     "name": "stdout",
     "output_type": "stream",
     "text": [
      "['Hello there', ' my name is Bilbo']\n"
     ]
    }
   ],
   "source": [
    "my_sentence = 'Hello there, my name is Bilbo'\n",
    "divided_sentence = my_sentence.split(sep=',')\n",
    "print(divided_sentence)"
   ]
  },
  {
   "cell_type": "code",
   "execution_count": null,
   "metadata": {},
   "outputs": [],
   "source": []
  }
 ],
 "metadata": {
  "kernelspec": {
   "display_name": "Python 3",
   "language": "python",
   "name": "python3"
  },
  "language_info": {
   "codemirror_mode": {
    "name": "ipython",
    "version": 3
   },
   "file_extension": ".py",
   "mimetype": "text/x-python",
   "name": "python",
   "nbconvert_exporter": "python",
   "pygments_lexer": "ipython3",
   "version": "3.6.4"
  }
 },
 "nbformat": 4,
 "nbformat_minor": 2
}
